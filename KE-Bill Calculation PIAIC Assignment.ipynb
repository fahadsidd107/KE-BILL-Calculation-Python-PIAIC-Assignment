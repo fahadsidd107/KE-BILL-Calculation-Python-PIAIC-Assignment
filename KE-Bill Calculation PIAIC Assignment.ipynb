{
 "cells": [
  {
   "cell_type": "markdown",
   "id": "7b6f1553",
   "metadata": {},
   "source": [
    "# Muhammad Fahad Siddiqui\n",
    "# fsiddiqui107@gmail.com\n",
    "#PIAIC131745"
   ]
  },
  {
   "cell_type": "code",
   "execution_count": 2,
   "id": "e4be0ed0",
   "metadata": {},
   "outputs": [
    {
     "name": "stdout",
     "output_type": "stream",
     "text": [
      "Electirc charges for  525 = 10374.0\n",
      "eletric charge for  525 = 10106.25\n",
      "Electirc charges for  110 = 1131.8999999999999\n",
      "eletric charge for  110 = 892.0999999999999\n",
      "Electirc charges for  300 = 3765.0\n",
      "eletric charge for  300 = 3060.0\n",
      "Electirc charges for  500 = 9420.0\n",
      "eletric charge for  500 = 9625.0\n",
      "Electirc charges for  22 = 207.45999999999998\n",
      "eletric charge for  22 = 127.38\n",
      "Electirc charges for  44 = 414.91999999999996\n",
      "eletric charge for  44 = 254.76\n",
      "Electirc charges for  100 = 943.0\n",
      "eletric charge for  100 = 579.0\n"
     ]
    }
   ],
   "source": [
    "def electricity(monthly_units):\n",
    "    \n",
    "    charges=0\n",
    "    if monthly_units > 0 and monthly_units <=100:\n",
    "        charges=monthly_units * 9.43\n",
    "    elif monthly_units >100 and monthly_units <=200:\n",
    "        charges=monthly_units * 10.29\n",
    "    elif monthly_units >200 and monthly_units <=300:\n",
    "        charges=monthly_units * 12.55\n",
    "    elif monthly_units >300 and monthly_units <=400:\n",
    "        charges=monthly_units * 17.38    \n",
    "    elif monthly_units >400 and monthly_units <=500:\n",
    "        charges=monthly_units * 18.84\n",
    "        \n",
    "    elif monthly_units >500 and monthly_units <=600:\n",
    "        charges=monthly_units * 19.76  \n",
    "    elif monthly_units >600 and monthly_units <=700:\n",
    "        charges=monthly_units * 20.40     \n",
    "        \n",
    "        \n",
    "    else: #invalid values given\n",
    "        charges=-1\n",
    "        \n",
    "        \n",
    "        \n",
    "    \n",
    "    return charges\n",
    "\n",
    "\n",
    "\n",
    "def  uniform(monthly_units):\n",
    "    \n",
    "    charges=0\n",
    "    if monthly_units > 0 and monthly_units <=100:\n",
    "        charges=monthly_units * 5.79\n",
    "    elif monthly_units >100 and monthly_units <=200:\n",
    "        charges=monthly_units * 8.11\n",
    "    elif monthly_units >200 and monthly_units <=300:\n",
    "        charges=monthly_units * 10.20\n",
    "    elif monthly_units >300 and monthly_units <=700:\n",
    "        charges=monthly_units * 19.25   \n",
    "          \n",
    "        \n",
    "    else: #invalid values given\n",
    "        charges=-1\n",
    "        \n",
    "        \n",
    "        \n",
    "    \n",
    "    return charges\n",
    "\n",
    "\n",
    "\n",
    "# monthly_units=525\n",
    "\n",
    "def bill_main(monthly_units):\n",
    "    electric_charges=electricity(monthly_units)\n",
    "    print(\"Electirc charges for \",monthly_units,\"=\",electric_charges)\n",
    "    \n",
    "    uniform_charges=uniform(monthly_units)\n",
    "    print(\"eletric charge for \",monthly_units,\"=\",uniform_charges)\n",
    "      \n",
    "\n",
    "bill_main(monthly_units =525 )\n",
    "bill_main(110)\n",
    "bill_main(300)\n",
    "bill_main(500)\n",
    "bill_main(22)\n",
    "bill_main( 44)\n",
    "bill_main(100)\n"
   ]
  },
  {
   "cell_type": "code",
   "execution_count": null,
   "id": "91c81a59",
   "metadata": {},
   "outputs": [],
   "source": []
  }
 ],
 "metadata": {
  "kernelspec": {
   "display_name": "Python 3 (ipykernel)",
   "language": "python",
   "name": "python3"
  },
  "language_info": {
   "codemirror_mode": {
    "name": "ipython",
    "version": 3
   },
   "file_extension": ".py",
   "mimetype": "text/x-python",
   "name": "python",
   "nbconvert_exporter": "python",
   "pygments_lexer": "ipython3",
   "version": "3.9.7"
  }
 },
 "nbformat": 4,
 "nbformat_minor": 5
}
